{
 "cells": [
  {
   "cell_type": "code",
   "execution_count": 3,
   "metadata": {},
   "outputs": [],
   "source": [
    "#Se importan todos los paquetes que se van a necesitar.\n",
    "from __future__ import division\n",
    "import sys, platform, os\n",
    "\n",
    "from matplotlib import pyplot as plt\n",
    "import numpy as np\n",
    "\n",
    "import camb\n",
    "from camb import model, initialpower\n",
    "\n",
    "import pylab as pl\n",
    "\n",
    "#import scipy\n",
    "from scipy.interpolate import interp1d\n",
    "\n",
    "\n",
    "from scipy import integrate\n",
    "from scipy import linalg\n",
    "from scipy import constants as sc"
   ]
  },
  {
   "cell_type": "code",
   "execution_count": 8,
   "metadata": {},
   "outputs": [
    {
     "name": "stdout",
     "output_type": "stream",
     "text": [
      "299792.458\n"
     ]
    }
   ],
   "source": [
    "#Natural constants\n",
    "c_light = sc.c / 1000\n",
    "print(c_light)\n",
    "pi=np.pi"
   ]
  },
  {
   "cell_type": "code",
   "execution_count": 2,
   "metadata": {},
   "outputs": [
    {
     "ename": "TypeError",
     "evalue": "unsupported operand type(s) for *: 'float' and 'interp1d'",
     "output_type": "error",
     "traceback": [
      "\u001b[1;31m---------------------------------------------------------------------------\u001b[0m",
      "\u001b[1;31mTypeError\u001b[0m                                 Traceback (most recent call last)",
      "\u001b[1;32m<ipython-input-2-f4c6018954da>\u001b[0m in \u001b[0;36m<module>\u001b[1;34m()\u001b[0m\n\u001b[0;32m    114\u001b[0m         \u001b[1;32mreturn\u001b[0m \u001b[0mpow\u001b[0m\u001b[1;33m(\u001b[0m\u001b[0mparametros_CAMB\u001b[0m\u001b[1;33m.\u001b[0m\u001b[0mTb\u001b[0m\u001b[1;33m(\u001b[0m\u001b[0mzc\u001b[0m\u001b[1;33m)\u001b[0m\u001b[1;33m,\u001b[0m \u001b[1;36m2\u001b[0m\u001b[1;33m)\u001b[0m\u001b[1;33m*\u001b[0m\u001b[0mpow\u001b[0m\u001b[1;33m(\u001b[0m\u001b[0mparametros_CAMB\u001b[0m\u001b[1;33m.\u001b[0m\u001b[0mbHI\u001b[0m\u001b[1;33m(\u001b[0m\u001b[0mzc\u001b[0m\u001b[1;33m)\u001b[0m\u001b[1;33m,\u001b[0m \u001b[1;36m2\u001b[0m\u001b[1;33m)\u001b[0m\u001b[1;33m*\u001b[0m\u001b[0mparametros_CAMB\u001b[0m\u001b[1;33m.\u001b[0m\u001b[0mPkz\u001b[0m\u001b[1;33m(\u001b[0m\u001b[0mkk\u001b[0m\u001b[1;33m,\u001b[0m \u001b[0mzc\u001b[0m\u001b[1;33m)\u001b[0m\u001b[1;33m\u001b[0m\u001b[0m\n\u001b[0;32m    115\u001b[0m \u001b[1;33m\u001b[0m\u001b[0m\n\u001b[1;32m--> 116\u001b[1;33m \u001b[0mprint\u001b[0m\u001b[1;33m(\u001b[0m\u001b[0mparametros_CAMB\u001b[0m\u001b[1;33m.\u001b[0m\u001b[0mPHI\u001b[0m\u001b[1;33m(\u001b[0m\u001b[1;36m0.1\u001b[0m\u001b[1;33m,\u001b[0m \u001b[1;36m0.5\u001b[0m\u001b[1;33m)\u001b[0m\u001b[1;33m)\u001b[0m\u001b[1;33m\u001b[0m\u001b[0m\n\u001b[0m",
      "\u001b[1;32m<ipython-input-2-f4c6018954da>\u001b[0m in \u001b[0;36mPHI\u001b[1;34m(kk, zc)\u001b[0m\n\u001b[0;32m    112\u001b[0m     \u001b[1;31m#Construct P_HI(k,z) [mK^2]\u001b[0m\u001b[1;33m\u001b[0m\u001b[1;33m\u001b[0m\u001b[0m\n\u001b[0;32m    113\u001b[0m     \u001b[1;32mdef\u001b[0m \u001b[0mPHI\u001b[0m\u001b[1;33m(\u001b[0m\u001b[0mkk\u001b[0m\u001b[1;33m,\u001b[0m \u001b[0mzc\u001b[0m\u001b[1;33m)\u001b[0m\u001b[1;33m:\u001b[0m\u001b[1;33m\u001b[0m\u001b[0m\n\u001b[1;32m--> 114\u001b[1;33m         \u001b[1;32mreturn\u001b[0m \u001b[0mpow\u001b[0m\u001b[1;33m(\u001b[0m\u001b[0mparametros_CAMB\u001b[0m\u001b[1;33m.\u001b[0m\u001b[0mTb\u001b[0m\u001b[1;33m(\u001b[0m\u001b[0mzc\u001b[0m\u001b[1;33m)\u001b[0m\u001b[1;33m,\u001b[0m \u001b[1;36m2\u001b[0m\u001b[1;33m)\u001b[0m\u001b[1;33m*\u001b[0m\u001b[0mpow\u001b[0m\u001b[1;33m(\u001b[0m\u001b[0mparametros_CAMB\u001b[0m\u001b[1;33m.\u001b[0m\u001b[0mbHI\u001b[0m\u001b[1;33m(\u001b[0m\u001b[0mzc\u001b[0m\u001b[1;33m)\u001b[0m\u001b[1;33m,\u001b[0m \u001b[1;36m2\u001b[0m\u001b[1;33m)\u001b[0m\u001b[1;33m*\u001b[0m\u001b[0mparametros_CAMB\u001b[0m\u001b[1;33m.\u001b[0m\u001b[0mPkz\u001b[0m\u001b[1;33m(\u001b[0m\u001b[0mkk\u001b[0m\u001b[1;33m,\u001b[0m \u001b[0mzc\u001b[0m\u001b[1;33m)\u001b[0m\u001b[1;33m\u001b[0m\u001b[0m\n\u001b[0m\u001b[0;32m    115\u001b[0m \u001b[1;33m\u001b[0m\u001b[0m\n\u001b[0;32m    116\u001b[0m \u001b[0mprint\u001b[0m\u001b[1;33m(\u001b[0m\u001b[0mparametros_CAMB\u001b[0m\u001b[1;33m.\u001b[0m\u001b[0mPHI\u001b[0m\u001b[1;33m(\u001b[0m\u001b[1;36m0.1\u001b[0m\u001b[1;33m,\u001b[0m \u001b[1;36m0.5\u001b[0m\u001b[1;33m)\u001b[0m\u001b[1;33m)\u001b[0m\u001b[1;33m\u001b[0m\u001b[0m\n",
      "\u001b[1;32m<ipython-input-2-f4c6018954da>\u001b[0m in \u001b[0;36mPkz\u001b[1;34m(kk, zc)\u001b[0m\n\u001b[0;32m    103\u001b[0m \u001b[1;33m\u001b[0m\u001b[0m\n\u001b[0;32m    104\u001b[0m     \u001b[1;32mdef\u001b[0m \u001b[0mPkz\u001b[0m\u001b[1;33m(\u001b[0m\u001b[0mkk\u001b[0m\u001b[1;33m,\u001b[0m \u001b[0mzc\u001b[0m\u001b[1;33m)\u001b[0m\u001b[1;33m:\u001b[0m\u001b[1;33m\u001b[0m\u001b[0m\n\u001b[1;32m--> 105\u001b[1;33m         \u001b[1;32mreturn\u001b[0m \u001b[0mpow\u001b[0m\u001b[1;33m(\u001b[0m\u001b[0mparametros_CAMB\u001b[0m\u001b[1;33m.\u001b[0m\u001b[0mDgz\u001b[0m\u001b[1;33m(\u001b[0m\u001b[0mzc\u001b[0m\u001b[1;33m)\u001b[0m\u001b[1;33m,\u001b[0m \u001b[1;36m2\u001b[0m\u001b[1;33m)\u001b[0m\u001b[1;33m*\u001b[0m\u001b[1;33m(\u001b[0m\u001b[0mparametros_CAMB\u001b[0m\u001b[1;33m.\u001b[0m\u001b[0mPkz0\u001b[0m\u001b[1;33m(\u001b[0m\u001b[1;33m)\u001b[0m\u001b[1;33m)\u001b[0m\u001b[1;33m\u001b[0m\u001b[0m\n\u001b[0m\u001b[0;32m    106\u001b[0m \u001b[1;33m\u001b[0m\u001b[0m\n\u001b[0;32m    107\u001b[0m     \u001b[1;32mdef\u001b[0m \u001b[0mTb\u001b[0m\u001b[1;33m(\u001b[0m\u001b[0mzc\u001b[0m\u001b[1;33m)\u001b[0m\u001b[1;33m:\u001b[0m \u001b[1;31m#in mK\u001b[0m\u001b[1;33m\u001b[0m\u001b[0m\n",
      "\u001b[1;31mTypeError\u001b[0m: unsupported operand type(s) for *: 'float' and 'interp1d'"
     ]
    }
   ],
   "source": [
    "#Parámetros cosmológicos necesarios.\n",
    "\n",
    "\n",
    "hubble=0.678\n",
    "omegab=0.022*pow(hubble,-2)\n",
    "omegac=0.119*pow(hubble,-2)\n",
    "om0=omegac+omegab\n",
    "H00=100*hubble\n",
    "Ass=2.14e-9\n",
    "nss = 0.968\n",
    "\n",
    "gamma=0.545\n",
    "\n",
    "\n",
    "class parametros_CAMB():\n",
    "    \n",
    "    def parametrosCAMB():\n",
    "        \n",
    "        #Se preparan los parámetros de CAMB\n",
    "        pars = camb.CAMBparams()\n",
    "        \n",
    "        #Set cosmology || Se preparan los datos cosmológicos a como se desean.\n",
    "        pars.set_cosmology(H0 = H00, ombh2 = omegab*pow(hubble, 2), omch2=omegac*pow(hubble, 2), omk = 0, mnu = 0)\n",
    "        pars.set_dark_energy() #LCDM (default)\n",
    "        pars.InitPower.set_params(ns = nss, r = 0, As = Ass)\n",
    "        pars.set_for_lmax(2500, lens_potential_accuracy = 0);\n",
    "        \n",
    "        #Se calculan resultados para esos parámetros\n",
    "        results = camb.get_results(pars)\n",
    "        \n",
    "        #Get matter power spectrum at z=0: P(k,z=0)\n",
    "        pars.set_matter_power(redshifts=[0.], kmax = 2.0)\n",
    "        \n",
    "        #Linear spectra\n",
    "        pars.NonLinear = model.NonLinear_none\n",
    "        results.calc_power_spectra(pars)\n",
    "        kh, z, pk = results.get_matter_power_spectrum(minkh = 1e-4, maxkh = 2.0, npoints = 200)\n",
    "        return kh, z, pk\n",
    "\n",
    "    #Construct P(k,z=0) interpolating function, in units of Mpc (no h)\n",
    "    def Pkz0():\n",
    "        kh, z, pk = parametros_CAMB.parametrosCAMB()\n",
    "        Pkz0 = interp1d(kh*hubble, pk[0]/pow(hubble, 3))\n",
    "        return Pkz0\n",
    "    \n",
    "    \"\"\"Se comienzan a definir todas las funciones necesarias para formar el Espectro de Potencias para diferentres redshift (z)\"\"\"\n",
    "    #Defino E(z)\n",
    "    def Ez(zc):\n",
    "        return np.sqrt(1 - om0 + om0*pow(1 + zc, 3))\n",
    "\n",
    "    #Define the comoving distance\n",
    "    def drdz(zp):\n",
    "        return (c/H00)/parametros_CAMB.Ez(zp)\n",
    "    \n",
    "    def rcom(zc):\n",
    "        return integrate.romberg(parametros_CAMB.drdz, 0, zc)\n",
    "\n",
    "    #Define the growth function in LCDM\n",
    "    def fg(zz):\n",
    "        omz = om0*pow(1 + zz, 3)/(om0*pow(1 + zz, 3) + 1 - om0)\n",
    "        return pow(omz, gamma)\n",
    "\n",
    "    #Get the growth factor \n",
    "    def Dg_dz(zz):\n",
    "        return parametros_CAMB.fg(zz)/(1 + zz)\n",
    "    \n",
    "    def Dgz(zc):\n",
    "        ans = integrate.romberg(parametros_CAMB.Dg_dz, 0.0, zc)\n",
    "        return np.exp(-ans)\n",
    "\n",
    "    #Fiducial HI abundance and bias fitting functions from SKA Cosmology Red Book 2018\n",
    "    def OmHI(zc):\n",
    "        return 0.00048 + 0.00039*zc - 0.000065*pow(zc, 2)\n",
    "\n",
    "    def bHI(zc):\n",
    "        return 0.67 + 0.18*zc + 0.05*pow(zc, 2)\n",
    "    \n",
    "    def Pkz(kk, zc):    \n",
    "        return pow(parametros_CAMB.Dgz(zc), 2)*(parametros_CAMB.Pkz0())\n",
    "    \n",
    "    def Tb(zc): #in mK\n",
    "        return 0.0559 + 0.2324*zc - 0.024*pow(zc, 2)\n",
    "\n",
    "    #Construct  matter power spectrum P(k,z) - no RSDs\n",
    "    #Se construye la ecuación del Espectro de Potencia para cualquier z P(k,z)\n",
    "    #Construct P_HI(k,z) [mK^2]\n",
    "    def PHI(kk, zc):\n",
    "        return pow(parametros_CAMB.Tb(zc), 2)*pow(parametros_CAMB.bHI(zc), 2)*parametros_CAMB.Pkz(kk, zc)\n",
    "\n",
    "print(parametros_CAMB.PHI(0.1, 0.5))"
   ]
  },
  {
   "cell_type": "code",
   "execution_count": null,
   "metadata": {},
   "outputs": [],
   "source": []
  }
 ],
 "metadata": {
  "hide_input": false,
  "kernelspec": {
   "display_name": "Python 3",
   "language": "python",
   "name": "python3"
  },
  "language_info": {
   "codemirror_mode": {
    "name": "ipython",
    "version": 3
   },
   "file_extension": ".py",
   "mimetype": "text/x-python",
   "name": "python",
   "nbconvert_exporter": "python",
   "pygments_lexer": "ipython3",
   "version": "3.7.1"
  },
  "toc": {
   "base_numbering": 1,
   "nav_menu": {},
   "number_sections": true,
   "sideBar": true,
   "skip_h1_title": false,
   "title_cell": "Table of Contents",
   "title_sidebar": "Contents",
   "toc_cell": false,
   "toc_position": {},
   "toc_section_display": true,
   "toc_window_display": false
  }
 },
 "nbformat": 4,
 "nbformat_minor": 2
}
