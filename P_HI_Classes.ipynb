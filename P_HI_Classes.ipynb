{
 "cells": [
  {
   "cell_type": "code",
   "execution_count": 1,
   "metadata": {},
   "outputs": [],
   "source": [
    "import camb\n",
    "from scipy import constants\n",
    "from scipy import integrate\n",
    "import numpy as np\n",
    "\n",
    "class CAMBresults:\n",
    "    def __init__(self, H0, ombh2, omch2, mnu, w0, wa, As, ns, kmax, redshifts):\n",
    "        self.pars = camb.CAMBparams()\n",
    "        self.kmax = kmax\n",
    "        self.pars.set_cosmology(H0 = H0, ombh2 = ombh2, omch2 = omch2, mnu = mnu)\n",
    "        self.pars.set_dark_energy(w = w0, wa = wa)\n",
    "        self.pars.InitPower.set_params(As = As, ns = ns)\n",
    "        self.pars.set_matter_power(redshifts = redshifts, kmax = kmax)\n",
    "        self.results = camb.get_results(self.pars)\n",
    "\n",
    "    def nonlinear_power(self, halofit_formula = 'takahashi'):\n",
    "        self.pars.NonLinear = camb.model.NonLinear_both\n",
    "        self.pars.NonLinearModel.set_params(halofit_version = halofit_formula)\n",
    "\n",
    "    def power_spec_z0(self):\n",
    "        self.results.calc_power_spectra(self.pars)\n",
    "        values = self.results.get_matter_power_spectrum(minkh = 1e-4, maxkh = self.kmax, npoints = 500)\n",
    "        self.kh, self.z, self.pk = values\n",
    "        self.PK = camb.get_matter_power_interpolator(self.pars, hubble_units = True, k_hunit = True, log_interp = False)\n",
    "\n",
    "\"\"\"Aquí es donde me está dando error, al inicializar. Más abajo va a ver que \n",
    "    no inicialicé la clase de HIPowerspectrum porque depende de estos parámetros,\n",
    "    aparte de que me parece que la forma en que estoy llamando al PK de CAMB está mal,\n",
    "    pero por este error no lo he podido probar\"\"\"\n",
    "#prueba1 = CAMBresults(0.67*100, 0.022*(0.67**-2), 0.119*(0.67**-2), 1, 1, 1, 2.14e-9, 0.968, 1, [1,2,3,4])\n",
    "#print('prueba4:', prueba1.power_spec_z0)"
   ]
  },
  {
   "cell_type": "code",
   "execution_count": 12,
   "metadata": {},
   "outputs": [
    {
     "name": "stdout",
     "output_type": "stream",
     "text": [
      "E(z): 4474514298.5074625\n"
     ]
    }
   ],
   "source": [
    "\"\"\"Todo esto lo estoy probando con valores super random, entonces los resultados que tiran son\n",
    "    cualquier cosa... Tal vez usted pueda ponerle valores un poco más reales para ver si todo\n",
    "    está funcionando bien.\n",
    "    \n",
    "    Para tomar en cuenta: me estoy basando en dos cosas. 1- el código para empezar todo, que usted\n",
    "    me había pasado hace un tiempo, y 2- el código y diapositivas de Alkistis, en donde vienen\n",
    "    todas las ecuaciones.\n",
    "    \n",
    "    Yo había subido un archivo que se llama Fisher Matrix Test, en donde había puesto las\n",
    "    ecuaciones de forma visible para entenderlo. De ese archivo me estoy basando para poner\n",
    "    todo lo que hay aquí.\n",
    "    \n",
    "    Si hay algo que está mal o que se debe cambiar, me avisa para corregirlo.\n",
    "    \n",
    "    Yo estoy subiendo este archivo .ipynb pero todo lo estoy trabajando en un archivo .py\n",
    "    porque me parece más cómodo para trabajar.\"\"\"\n",
    "\n",
    "\"\"\"Aquí hago la clase madre de muchas otras, donde defino la energía E(z)\"\"\"\n",
    "\n",
    "class Hubble:\n",
    "    \"\"\"Obtain Hubble function\n",
    "        Parameter:\n",
    "            H0: Hubble constant\"\"\"\n",
    "    def __init__(self, H0, h_z):\n",
    "        self.H0 = H0\n",
    "        self._h_z = h_z\n",
    "\n",
    "    def E_z(self, z):\n",
    "        \"\"\"E(z)\n",
    "            Parameters:\n",
    "                z: Redshift\n",
    "                Notes: H(z) in km/s/Mpc while CAMB's H(z) is in 1/Mpc\"\"\"\n",
    "        h_z_phys = self._h_z*constants.c\n",
    "        return h_z_phys / self.H0\n",
    "\n",
    "prueba2 = Hubble(0.67, 10)\n",
    "print('E(z):', prueba2.E_z(2.0))"
   ]
  },
  {
   "cell_type": "code",
   "execution_count": 3,
   "metadata": {},
   "outputs": [
    {
     "name": "stdout",
     "output_type": "stream",
     "text": [
      "Growth Factor: 1.0000000000000135\n"
     ]
    }
   ],
   "source": [
    "\"\"\"Defino el factor de crecimiento\"\"\"\n",
    "\n",
    "class growthFactor(Hubble):\n",
    "    \"\"\"Growth Factor\n",
    "        Parameters:\n",
    "            Omega_0:  \n",
    "            z: redshift\n",
    "            Gamma: \"\"\"\n",
    "    def __init__(self, H0, h_z, omega0, gamma):\n",
    "        super().__init__(H0, h_z)\n",
    "        self.omega0 = omega0\n",
    "        self.gamma = gamma\n",
    "\n",
    "    def growthFunction(self, z):\n",
    "        value1 = self.E_z(z)\n",
    "        value2 = self.omega0*pow((1 + z), 3)\n",
    "        value3 = pow(value2/value1, self.gamma)\n",
    "        return value3\n",
    "\n",
    "    def dgF_dz(self, z):\n",
    "        return (self.growthFunction(z))/(1 + z)\n",
    "\n",
    "    def Growth_Factor(self, z):\n",
    "        return np.exp(integrate.romberg(self.dgF_dz, 0., z))\n",
    "\n",
    "prueba3 = growthFactor(0.67, 10, 10, 2)\n",
    "print(\"Growth Factor:\", prueba3.Growth_Factor(4))"
   ]
  },
  {
   "cell_type": "code",
   "execution_count": 4,
   "metadata": {},
   "outputs": [
    {
     "name": "stdout",
     "output_type": "stream",
     "text": [
      "Temperature: 1.5072608403446213e-21\n"
     ]
    }
   ],
   "source": [
    "\"\"\"Obtengo la temperatura que se utiliza en la ecuación del PHI\"\"\"\n",
    "\n",
    "class Temperature(Hubble): #obtaining the temperature (T^2(z)) for the Power Spectrum (PHI(z))\n",
    "    def __init__(self, H0, h_z, densityHI):\n",
    "        super().__init__(H0, h_z)\n",
    "        self.densityHI = densityHI\n",
    "    \n",
    "    def omega_HI(self, z):\n",
    "        return (8*np.pi*constants.G*self.densityHI)/(3*(self.H0**2))\n",
    "    \n",
    "    def Temp_obs(self, z):\n",
    "        return 44e-6*(self.omega_HI(z)*((self.H0/100)/2.45e-4)*((1 + z)**2))/self.E_z(z)\n",
    "\n",
    "prueba4 = Temperature(0.67, 10, 0.5)\n",
    "print('Temperature:', prueba4.Temp_obs(2))"
   ]
  },
  {
   "cell_type": "code",
   "execution_count": 5,
   "metadata": {},
   "outputs": [],
   "source": [
    "\"\"\"Con las clases anteriores, ya se puede obtener el Power Spectrum\n",
    "    No lo inicialicé por el problema que está dando en la clase de CAMB\n",
    "    Fíjese en la definición de matterPowerSpectrum como estoy llamando el PK de camb\n",
    "    No estoy seguro de que sea la forma correcta. Tal vez me pueda aclarar eso un poco.\n",
    "    Estoy viendo cómo utilizar una lista de datos como argumento en las definiciones,\n",
    "    para no tener que poner tantos argumentos.\"\"\"\n",
    "\n",
    "class HIPowerSpectrum:\n",
    "    def __init__(self, H0, ombh2, omch2, mnu, w0, wa, As, ns, kmax, redshifts, h_z, densityHI, omega0, gamma, bias):\n",
    "        self.camb = CAMBresults(H0, ombh2, omch2, mnu, w0, wa, As, ns, kmax, redshifts)\n",
    "        self.temperature = Temperature(H0, h_z, densityHI)\n",
    "        self.growth_factor = growthFactor(H0, h_z, omega0, gamma)\n",
    "        self.bias = bias\n",
    "        \n",
    "    def matterPowerSpectrum(self, z):\n",
    "        return (self.growth_factor.Growth_Factor(z)**2)*self.camb.PK\n",
    "    \n",
    "    def HIPowerSpectrum(self, z):\n",
    "        return (self.temperature.Temp_obs(z)**2)*(self.bias**2)*(self.matterPowerSpectrum(z)**2)\n",
    "\n",
    "#prueba5"
   ]
  },
  {
   "cell_type": "code",
   "execution_count": 13,
   "metadata": {},
   "outputs": [
    {
     "name": "stdout",
     "output_type": "stream",
     "text": [
      "sigma_Pix: 2329.5135674316844\n"
     ]
    }
   ],
   "source": [
    "\"\"\"A partir de aquí empiezo a obtener los valores necesarios para la Matriz de Fisher\"\"\"\n",
    "\n",
    "class sigmaPix:\n",
    "    def __init__(self, Ddish, delta_f, ttotal, omegaTot, Ndishes, Nbeams, Tsys):\n",
    "        #alist = []\n",
    "        self.Ddish = Ddish\n",
    "        self.delta_f = delta_f\n",
    "        self.ttotal = ttotal\n",
    "        self.omegaTot = omegaTot\n",
    "        self.Ndishes = Ndishes\n",
    "        self.Nbeams = Nbeams\n",
    "        self.Tsys = Tsys\n",
    "    \n",
    "    def theta_B(self, z):\n",
    "        return 21*(1 + z)/self.Ddish\n",
    "    \n",
    "    def Omega_Pix(self, z):\n",
    "        return 1.31*(self.theta_B(z))**2\n",
    "        \n",
    "    def sigma_Pix(self, z):\n",
    "        return self.Tsys/np.sqrt(self.delta_f*self.ttotal*(self.Omega_Pix(z)/self.omegaTot)*self.Ndishes*self.Nbeams)\n",
    "\n",
    "prueba6 = sigmaPix(13, 1, 2, 3, 4, 1, 21.1e3)\n",
    "print(\"sigma_Pix:\", prueba6.sigma_Pix(2))"
   ]
  },
  {
   "cell_type": "code",
   "execution_count": 7,
   "metadata": {},
   "outputs": [
    {
     "name": "stdout",
     "output_type": "stream",
     "text": [
      "Comoving Distance: 8.939517751310475e-10\n"
     ]
    }
   ],
   "source": [
    "class ComovingDistance(Hubble):\n",
    "    \"\"\"Comvoing Distance\n",
    "        Parameters:\n",
    "            H0: Hubble constant\"\"\"\n",
    "    def __init__(self, H0, h_z):\n",
    "        super().__init__(H0, h_z)\n",
    "        self.r_z_vec = np.vectorize(self.rcom)\n",
    "\n",
    "    def rcom_prime(self, z): #this is the one used for results\n",
    "        return self.r_z_vec(z)/(constants.c/self.H0)\n",
    "\n",
    "    def drdz(self, z):\n",
    "        return (constants.c/self.H0)/self.E_z(z)\n",
    "\n",
    "    def rcom(self, z):\n",
    "        return integrate.romberg(self.drdz, 0., z)\n",
    "\n",
    "prueba7 = ComovingDistance(0.67, 10)\n",
    "print('Comoving Distance:', prueba7.rcom_prime(4))"
   ]
  },
  {
   "cell_type": "code",
   "execution_count": 8,
   "metadata": {},
   "outputs": [
    {
     "name": "stdout",
     "output_type": "stream",
     "text": [
      "V_pix: 1.4744677745848285e-23\n"
     ]
    }
   ],
   "source": [
    "\"\"\"Me estoy guiando en el código de Alkistis para obtener el zmin y zmax.\n",
    "    Es raro porque esos valores de Dzbin, dfpix y midfreq son valores que en ningún otro lado\n",
    "    aparecen más que en el código.\"\"\"\n",
    "\n",
    "\n",
    "class V_pix(ComovingDistance):\n",
    "    def __init__(self, H0, h_z, Ddish, delta_f, ttotal, omegaTot, Ndishes, Nbeams, Tsys, Dzbin, dfpix, midfreq):\n",
    "        super().__init__(H0, h_z)\n",
    "        self._sigmaPix = sigmaPix(Ddish, delta_f, ttotal, omegaTot, Ndishes, Nbeams, Tsys)\n",
    "        self.Dzbin = Dzbin\n",
    "        self.dfpix = dfpix\n",
    "        self.midfreq = midfreq\n",
    "        \n",
    "    def dV_pixdz(self, z):\n",
    "        return constants.c*(self.rcom_prime(z)**2)/(100*self.H0*self.E_z(z))\n",
    "    \n",
    "    def dzpix(self, z): #it is used to obtain the zmin and zmax for integration.\n",
    "        return ((1 + z)**2)*self.dfpix/self.midfreq\n",
    "    \n",
    "    def zmax(self, z):\n",
    "        return z + self.dzpix(z)/2\n",
    "    \n",
    "    def zmin(self, z):\n",
    "        return z - self.dzpix(z)/2\n",
    "    \n",
    "    def Vpix(self, z):\n",
    "        return self._sigmaPix.sigma_Pix(z)*(integrate.romberg(self.dV_pixdz, self.zmin(z), self.zmax(z)))\n",
    "\n",
    "prueba8 = V_pix(0.67, 10, 13, 1, 2, 3, 4, 1, 21.1e3, 0.1, 50e3, 14204e6)\n",
    "print(\"V_pix:\", prueba8.Vpix(2))"
   ]
  },
  {
   "cell_type": "code",
   "execution_count": 9,
   "metadata": {},
   "outputs": [
    {
     "name": "stdout",
     "output_type": "stream",
     "text": [
      "W^2: 0.9999999999999953\n"
     ]
    }
   ],
   "source": [
    "class Wsquared(ComovingDistance, sigmaPix):\n",
    "    def __init__(self, H0, h_z, Ddish, delta_f, ttotal, omegaTot, Ndishes, Nbeams, Tsys):\n",
    "        ComovingDistance.__init__(self, H0, h_z)\n",
    "        sigmaPix.__init__(self, Ddish, delta_f, ttotal, omegaTot, Ndishes, Nbeams, Tsys)\n",
    "    \n",
    "    def Wsq(self, k, z):\n",
    "        return np.exp(-1*(k**2)*self.rcom_prime(z)**2*(self.theta_B(z)/np.sqrt(8*np.log(2))))\n",
    "\n",
    "prueba9 = Wsquared(0.67, 0.1, 13, 0.14, 4000, 3, 4, 1, 21.1e3)\n",
    "print(\"W^2:\", prueba9.Wsq(1.07, 2))"
   ]
  },
  {
   "cell_type": "code",
   "execution_count": 10,
   "metadata": {},
   "outputs": [
    {
     "name": "stdout",
     "output_type": "stream",
     "text": [
      "P_Noise 1.707767430007833e-14\n"
     ]
    }
   ],
   "source": [
    "class PNoise:\n",
    "    def __init__(self, H0, h_z, Ddish, delta_f, ttotal, omegaTot, Ndishes, Nbeams, Tsys, Dzbin, dfpix, midfreq):\n",
    "        self._sigmaPix = sigmaPix(Ddish, delta_f, ttotal, omegaTot, Ndishes, Nbeams, Tsys)\n",
    "        self._V_pix = V_pix(H0, h_z, Ddish, delta_f, ttotal, omegaTot, Ndishes, Nbeams, Tsys, Dzbin, dfpix, midfreq)\n",
    "        self._Wsquared = Wsquared(H0, h_z, Ddish, delta_f, ttotal, omegaTot, Ndishes, Nbeams, Tsys)\n",
    "        \n",
    "    def P_Noise(self, k, z):\n",
    "        return (self._sigmaPix.sigma_Pix(z)**2)*(self._V_pix.Vpix(z))*(self._Wsquared.Wsq(k, z)**-2)\n",
    "\n",
    "prueba10 = PNoise(0.67, 0.1, 13, 0.14, 4000, 3, 4, 1, 21.1e3, 0.1, 50e3, 14204e6)\n",
    "print(\"P_Noise\", prueba10.P_Noise(0.1, 2))"
   ]
  },
  {
   "cell_type": "code",
   "execution_count": 11,
   "metadata": {},
   "outputs": [
    {
     "name": "stdout",
     "output_type": "stream",
     "text": [
      "V_sur: 1.0590940521805888e-23\n"
     ]
    }
   ],
   "source": [
    "\"\"\"Aquí estoy poniendo como argumento el sigmaSur que es el sigma del Survey específico,\n",
    "    pero en el código de Alkistis no lo toman en cuenta, me parece.\"\"\"\n",
    "\n",
    "\n",
    "class V_survey(ComovingDistance):\n",
    "    def __init__(self, H0, h_z, sigmaSur, Dzbin):\n",
    "        super().__init__(H0, h_z)\n",
    "        self.sigmaSur = sigmaSur\n",
    "        self.Dzbin = Dzbin\n",
    "        \n",
    "    def dV_surdz(self, z):\n",
    "        return constants.c*(self.rcom_prime(z)**2)/(100*self.H0*self.E_z(z))\n",
    "    \n",
    "    def zmax(self, z):\n",
    "        return z + self.Dzbin/2\n",
    "    \n",
    "    def zmin(self, z):\n",
    "        return z - self.Dzbin/2\n",
    "    \n",
    "    def Vsur(self, z):\n",
    "        return self.sigmaSur*(integrate.romberg(self.dV_surdz, self.zmin(z), self.zmax(z)))\n",
    "\n",
    "prueba8 = V_survey(0.67, 10, 0.53, 0.1)\n",
    "print(\"V_sur:\", prueba8.Vsur(2))"
   ]
  },
  {
   "cell_type": "code",
   "execution_count": 17,
   "metadata": {},
   "outputs": [
    {
     "name": "stdout",
     "output_type": "stream",
     "text": [
      "k_min: 193089135.49878806\n",
      "k_max: 0.2912117352272666\n"
     ]
    }
   ],
   "source": [
    "\"\"\"Esto es para la integral de la matriz de Fisher más adelante.\"\"\"\n",
    "\n",
    "class kminmax(ComovingDistance):\n",
    "    def __init__(self, H0, h_z, omegaTot, ns):\n",
    "        super().__init__(H0, h_z)\n",
    "        self.omegaTot = omegaTot\n",
    "        self.ns = ns\n",
    "    \n",
    "    def kmin(self, z):\n",
    "        return 2*np.pi/np.sqrt((self.rcom_prime(z)**2)*self.omegaTot)\n",
    "    \n",
    "    def kmax(self, z):\n",
    "        return 0.14*pow((1 + z),(2/(2 + self.ns)))\n",
    "        \n",
    "prueba12 = kminmax(0.67, 0.1, 0.53, 1)\n",
    "print(\"k_min:\", prueba12.kmin(2))\n",
    "print(\"k_max:\", prueba12.kmax(2))"
   ]
  },
  {
   "cell_type": "code",
   "execution_count": null,
   "metadata": {},
   "outputs": [],
   "source": []
  }
 ],
 "metadata": {
  "kernelspec": {
   "display_name": "Python 3",
   "language": "python",
   "name": "python3"
  },
  "language_info": {
   "codemirror_mode": {
    "name": "ipython",
    "version": 3
   },
   "file_extension": ".py",
   "mimetype": "text/x-python",
   "name": "python",
   "nbconvert_exporter": "python",
   "pygments_lexer": "ipython3",
   "version": "3.6.5"
  }
 },
 "nbformat": 4,
 "nbformat_minor": 2
}
