{
 "cells": [
  {
   "cell_type": "code",
   "execution_count": 1,
   "metadata": {},
   "outputs": [],
   "source": [
    "#Import all necessary packages.\n",
    "%matplotlib inline\n",
    "import sys, platform, os\n",
    "\n",
    "from matplotlib import pyplot as plt\n",
    "import numpy as np\n",
    "\n",
    "import camb\n",
    "from camb import model, initialpower\n",
    "\n",
    "import pylab as pl\n",
    "\n",
    "import scipy\n",
    "from scipy.interpolate import interp1d\n",
    "#from __future__ import division\n",
    "\n",
    "from scipy import integrate\n",
    "from scipy import linalg"
   ]
  },
  {
   "cell_type": "code",
   "execution_count": 2,
   "metadata": {},
   "outputs": [],
   "source": [
    "# para obtener ayuda, usar: camb.CAMBparams?"
   ]
  },
  {
   "cell_type": "code",
   "execution_count": 3,
   "metadata": {},
   "outputs": [],
   "source": [
    "#Fiducial cosmological parameters\n",
    "c=3e5\n",
    "pi=np.pi\n",
    "## omegac =~ 0.25\n",
    "## omegab =~ 0.05\n",
    "h=0.678\n",
    "omegab=0.05  ## pasar a camb: omegab*h^2\n",
    "omegac=0.24   ## pasar a camb: omegac*h^2\n",
    "omegam=omegac+omegab"
   ]
  },
  {
   "cell_type": "code",
   "execution_count": 84,
   "metadata": {},
   "outputs": [],
   "source": [
    "class CAMBresults:\n",
    "    def __init__(self, redshifts=[0.], **kwargs):\n",
    "        H0 = kwargs['H0']\n",
    "        ombh2 = kwargs['ombh2']\n",
    "        omch2 = kwargs['omch2']\n",
    "        mnu = kwargs['mnu']\n",
    "        w = kwargs['w']\n",
    "        wa = kwargs['wa']\n",
    "        As = kwargs['As']\n",
    "        ns = kwargs['ns']\n",
    "        kmax = kwargs['kmax']\n",
    "        halofit_formula = kwargs.get('halofit_formula', 'takahashi')\n",
    "        #print(halofit_formula)\n",
    "        self.pars = camb.CAMBparams()\n",
    "        self.kmax = kmax\n",
    "        self.pars.set_cosmology( H0 = H0, ombh2 = ombh2, omch2 = omch2, mnu = mnu)\n",
    "        self.pars.set_dark_energy(w = w, wa = wa)\n",
    "        #print(self.pars)\n",
    "        self.pars.InitPower.set_params(As = As, ns = ns)\n",
    "        self.results = camb.get_results(self.pars)\n",
    "        self.pars.set_matter_power(redshifts = redshifts, kmax = kmax)\n",
    "        self.pars.NonLinear = model.NonLinear_none\n",
    "        self.pars.NonLinearModel.set_params(halofit_version = halofit_formula)\n",
    "        self.results.calc_power_spectra(self.pars)        \n",
    "\n",
    "    def interpolate_power_spec(self):\n",
    "        values = self.results.get_matter_power_spectrum(minkh = 1e-4, maxkh = self.kmax, npoints = 500)\n",
    "        self.kh, self.z, self.pk = values\n",
    "        #self.PK = camb.get_matter_power_interpolator(self.pars, hubble_units = True, k_hunit = True, log_interp = False)\n",
    "        return None\n",
    "    def power_spec(self, z, k):\n",
    "        pkz = self.PK(z,k)[0,0]\n",
    "        return pkz"
   ]
  },
  {
   "cell_type": "code",
   "execution_count": 85,
   "metadata": {},
   "outputs": [],
   "source": [
    "#camb.get_matter_power_interpolator?"
   ]
  },
  {
   "cell_type": "code",
   "execution_count": 86,
   "metadata": {},
   "outputs": [
    {
     "name": "stdout",
     "output_type": "stream",
     "text": [
      "Note: redshifts have been re-sorted (earliest first)\n"
     ]
    }
   ],
   "source": [
    "\"\"\"Aquí es donde me está dando error, al inicializar. Más abajo va a ver que \n",
    "    no inicialicé la clase de HIPowerspectrum porque depende de estos parámetros,\n",
    "    aparte de que me parece que la forma en que estoy llamando al PK de CAMB está mal,\n",
    "    pero por este error no lo he podido probar\"\"\"\n",
    "h = 0.672\n",
    "prueba1 = CAMBresults(redshifts=[0., 1., 2.] , H0=h*100, \n",
    "                      ombh2=omegab*(h**2), omch2 = omegac*(h**2), \n",
    "                      mnu = 0.0, w =-1, wa =0, As = 2.14e-9, ns = 0.968, kmax=5)\n",
    "\n",
    "\n",
    "#print('prueba4:', prueba1.power_spec_z0)"
   ]
  },
  {
   "cell_type": "code",
   "execution_count": 87,
   "metadata": {},
   "outputs": [],
   "source": [
    "prueba1.interpolate_power_spec()"
   ]
  },
  {
   "cell_type": "code",
   "execution_count": 99,
   "metadata": {},
   "outputs": [],
   "source": [
    "prueba1.kh;"
   ]
  },
  {
   "cell_type": "code",
   "execution_count": 102,
   "metadata": {},
   "outputs": [
    {
     "data": {
      "text/plain": [
       "[0.0, 1.0, 2.0]"
      ]
     },
     "execution_count": 102,
     "metadata": {},
     "output_type": "execute_result"
    }
   ],
   "source": [
    "prueba1.z"
   ]
  },
  {
   "cell_type": "code",
   "execution_count": 100,
   "metadata": {},
   "outputs": [
    {
     "data": {
      "text/plain": [
       "array([[4.78294343e+02, 4.88433220e+02, 4.98786743e+02, ...,\n",
       "        1.25946801e+00, 1.19166177e+00, 1.12745270e+00],\n",
       "       [1.80896236e+02, 1.84731100e+02, 1.88647166e+02, ...,\n",
       "        4.76965404e-01, 4.51286905e-01, 4.26970668e-01],\n",
       "       [8.59762262e+01, 8.77989442e+01, 8.96602614e+01, ...,\n",
       "        2.27049453e-01, 2.14825732e-01, 2.03250487e-01]])"
      ]
     },
     "execution_count": 100,
     "metadata": {},
     "output_type": "execute_result"
    }
   ],
   "source": [
    "prueba1.pk"
   ]
  },
  {
   "cell_type": "code",
   "execution_count": 103,
   "metadata": {},
   "outputs": [],
   "source": [
    "Pkz = [interp1d(prueba1.kh, pkz) for pkz in prueba1.pk]"
   ]
  },
  {
   "cell_type": "code",
   "execution_count": 104,
   "metadata": {},
   "outputs": [
    {
     "data": {
      "text/plain": [
       "[<scipy.interpolate.interpolate.interp1d at 0x7f122b92b0e8>,\n",
       " <scipy.interpolate.interpolate.interp1d at 0x7f122b92b818>,\n",
       " <scipy.interpolate.interpolate.interp1d at 0x7f122b9744f8>]"
      ]
     },
     "execution_count": 104,
     "metadata": {},
     "output_type": "execute_result"
    }
   ],
   "source": [
    "Pkz"
   ]
  },
  {
   "cell_type": "code",
   "execution_count": 111,
   "metadata": {},
   "outputs": [
    {
     "data": {
      "text/plain": [
       "array([4.34415685e+03, 4.68491002e+03, 5.05027210e+03, 5.44166829e+03,\n",
       "       5.86047368e+03, 6.30802522e+03, 6.78551279e+03, 7.29426249e+03,\n",
       "       7.83540368e+03, 8.40990321e+03, 9.01831736e+03, 9.66141202e+03,\n",
       "       1.03394843e+04, 1.10525050e+04, 1.17995569e+04, 1.25801177e+04,\n",
       "       1.33927560e+04, 1.42354259e+04, 1.51045880e+04, 1.59972135e+04,\n",
       "       1.69089392e+04, 1.78344043e+04, 1.87660354e+04, 1.96969312e+04,\n",
       "       2.06184092e+04, 2.15203398e+04, 2.23896255e+04, 2.32140756e+04,\n",
       "       2.39796264e+04, 2.46704285e+04, 2.52672386e+04, 2.57526059e+04,\n",
       "       2.61080438e+04, 2.63140920e+04, 2.63497175e+04, 2.61984548e+04,\n",
       "       2.58471569e+04, 2.52862972e+04, 2.45118057e+04, 2.35313540e+04,\n",
       "       2.23640540e+04, 2.10404141e+04, 1.96045020e+04, 1.81137112e+04,\n",
       "       1.66308756e+04, 1.52226982e+04, 1.39488341e+04, 1.28479686e+04,\n",
       "       1.19562924e+04, 1.12456871e+04, 1.06488165e+04, 1.00728059e+04,\n",
       "       9.41266300e+03, 8.57960067e+03, 7.56151413e+03, 6.46788789e+03,\n",
       "       5.47883541e+03, 4.75042314e+03, 4.31620546e+03, 4.03577231e+03,\n",
       "       3.67990553e+03, 3.15090000e+03, 2.58341054e+03, 2.20917052e+03,\n",
       "       2.01392060e+03, 1.79197459e+03, 1.47958704e+03, 1.24900616e+03,\n",
       "       1.11268567e+03, 9.40675807e+02, 7.88117556e+02, 6.84804026e+02,\n",
       "       5.72694813e+02, 4.88029726e+02, 4.10440068e+02, 3.46834248e+02,\n",
       "       2.91092084e+02, 2.44674825e+02, 2.04793005e+02, 1.71288454e+02,\n",
       "       1.43087752e+02, 1.19243075e+02, 9.91702932e+01, 8.24066412e+01,\n",
       "       6.83829820e+01, 5.66533762e+01, 4.68591022e+01, 3.87232969e+01,\n",
       "       3.19605605e+01, 2.63412780e+01, 2.16796532e+01, 1.78296718e+01,\n",
       "       1.46484966e+01, 1.20195057e+01, 9.85006965e+00, 8.06702195e+00,\n",
       "       6.60143195e+00, 5.39585292e+00, 4.40548939e+00, 3.59484842e+00])"
      ]
     },
     "execution_count": 111,
     "metadata": {},
     "output_type": "execute_result"
    }
   ],
   "source": [
    "Pkz[0](karray) "
   ]
  },
  {
   "cell_type": "code",
   "execution_count": 113,
   "metadata": {},
   "outputs": [
    {
     "data": {
      "text/plain": [
       "[<matplotlib.lines.Line2D at 0x7f12302f9b38>]"
      ]
     },
     "execution_count": 113,
     "metadata": {},
     "output_type": "execute_result"
    },
    {
     "data": {
      "image/png": "[encoded data removed]",
      "text/plain": [
       "<Figure size 432x288 with 1 Axes>"
      ]
     },
     "metadata": {
      "needs_background": "light"
     },
     "output_type": "display_data"
    }
   ],
   "source": [
    "plt.loglog(karray, Pkz[0](karray) , '-', color='red')\n",
    "plt.loglog(prueba1.kh, prueba1.pk[0] , ':', color='blue')"
   ]
  },
  {
   "cell_type": "code",
   "execution_count": 25,
   "metadata": {},
   "outputs": [],
   "source": [
    "prueba2 = CAMBresults(redshifts=[0.] , H0=h*100, \n",
    "                      ombh2=omegab*(h**2), omch2 = omegac*(h**2), \n",
    "                      mnu = 0.0, w =-1, wa =0, As = 2.2e-9, ns = 0.968, kmax=1)"
   ]
  },
  {
   "cell_type": "code",
   "execution_count": 26,
   "metadata": {},
   "outputs": [
    {
     "data": {
      "text/plain": [
       "array([0.78810357])"
      ]
     },
     "execution_count": 26,
     "metadata": {},
     "output_type": "execute_result"
    }
   ],
   "source": [
    "prueba2.results.get_sigma8()"
   ]
  },
  {
   "cell_type": "code",
   "execution_count": null,
   "metadata": {},
   "outputs": [],
   "source": [
    "\"\"\"Todo esto lo estoy probando con valores super random, entonces los resultados que tiran son\n",
    "    cualquier cosa... Tal vez usted pueda ponerle valores un poco más reales para ver si todo\n",
    "    está funcionando bien.\n",
    "    \n",
    "    Para tomar en cuenta: me estoy basando en dos cosas. 1- el código para empezar todo, que usted\n",
    "    me había pasado hace un tiempo, y 2- el código y diapositivas de Alkistis, en donde vienen\n",
    "    todas las ecuaciones.\n",
    "    \n",
    "    Yo había subido un archivo que se llama Fisher Matrix Test, en donde había puesto las\n",
    "    ecuaciones de forma visible para entenderlo. De ese archivo me estoy basando para poner\n",
    "    todo lo que hay aquí.\n",
    "    \n",
    "    Si hay algo que está mal o que se debe cambiar, me avisa para corregirlo.\n",
    "    \n",
    "    Yo estoy subiendo este archivo .ipynb pero todo lo estoy trabajando en un archivo .py\n",
    "    porque me parece más cómodo para trabajar.\"\"\"\n",
    "\n",
    "\"\"\"Aquí hago la clase madre de muchas otras, donde defino la energía E(z)\"\"\"\n",
    "\n",
    "class Hubble:\n",
    "    \"\"\"Obtain Hubble function\n",
    "        Parameter:\n",
    "            H0: Hubble constant\"\"\"\n",
    "    def __init__(self, H0, h_z):\n",
    "        self.H0 = H0\n",
    "        self._h_z = h_z\n",
    "\n",
    "    def E_z(self, z):\n",
    "        \"\"\"E(z)\n",
    "            Parameters:\n",
    "                z: Redshift\n",
    "                Notes: H(z) in km/s/Mpc while CAMB's H(z) is in 1/Mpc\"\"\"\n",
    "        h_z_phys = self._h_z*constants.c\n",
    "        return h_z_phys / self.H0\n",
    "\n",
    "prueba2 = Hubble(0.67, 10)\n",
    "print('E(z):', prueba2.E_z(2.0))"
   ]
  },
  {
   "cell_type": "code",
   "execution_count": null,
   "metadata": {},
   "outputs": [],
   "source": [
    "\"\"\"Defino el factor de crecimiento\"\"\"\n",
    "\n",
    "class growthFactor(Hubble):\n",
    "    \"\"\"Growth Factor\n",
    "        Parameters:\n",
    "            Omega_0:  \n",
    "            z: redshift\n",
    "            Gamma: \"\"\"\n",
    "    def __init__(self, H0, h_z, omega0, gamma):\n",
    "        super().__init__(H0, h_z)\n",
    "        self.omega0 = omega0\n",
    "        self.gamma = gamma\n",
    "\n",
    "    def growthFunction(self, z):\n",
    "        value1 = self.E_z(z)\n",
    "        value2 = self.omega0*pow((1 + z), 3)\n",
    "        value3 = pow(value2/value1, self.gamma)\n",
    "        return value3\n",
    "\n",
    "    def dgF_dz(self, z):\n",
    "        return (self.growthFunction(z))/(1 + z)\n",
    "\n",
    "    def Growth_Factor(self, z):\n",
    "        return np.exp(integrate.romberg(self.dgF_dz, 0., z))\n",
    "\n",
    "prueba3 = growthFactor(0.67, 10, 10, 2)\n",
    "print(\"Growth Factor:\", prueba3.Growth_Factor(4))"
   ]
  },
  {
   "cell_type": "code",
   "execution_count": null,
   "metadata": {},
   "outputs": [],
   "source": [
    "\"\"\"Obtengo la temperatura que se utiliza en la ecuación del PHI\"\"\"\n",
    "\n",
    "class Temperature(Hubble): #obtaining the temperature (T^2(z)) for the Power Spectrum (PHI(z))\n",
    "    def __init__(self, H0, h_z, densityHI):\n",
    "        super().__init__(H0, h_z)\n",
    "        self.densityHI = densityHI\n",
    "    \n",
    "    def omega_HI(self, z):\n",
    "        return (8*np.pi*constants.G*self.densityHI)/(3*(self.H0**2))\n",
    "    \n",
    "    def Temp_obs(self, z):\n",
    "        return 44e-6*(self.omega_HI(z)*((self.H0/100)/2.45e-4)*((1 + z)**2))/self.E_z(z)\n",
    "\n",
    "prueba4 = Temperature(0.67, 10, 0.5)\n",
    "print('Temperature:', prueba4.Temp_obs(2))"
   ]
  },
  {
   "cell_type": "code",
   "execution_count": null,
   "metadata": {},
   "outputs": [],
   "source": [
    "\"\"\"Con las clases anteriores, ya se puede obtener el Power Spectrum\n",
    "    No lo inicialicé por el problema que está dando en la clase de CAMB\n",
    "    Fíjese en la definición de matterPowerSpectrum como estoy llamando el PK de camb\n",
    "    No estoy seguro de que sea la forma correcta. Tal vez me pueda aclarar eso un poco.\n",
    "    Estoy viendo cómo utilizar una lista de datos como argumento en las definiciones,\n",
    "    para no tener que poner tantos argumentos.\"\"\"\n",
    "\n",
    "class HIPowerSpectrum:\n",
    "    def __init__(self, H0, ombh2, omch2, mnu, w0, wa, As, ns, kmax, redshifts, h_z, densityHI, omega0, gamma, bias):\n",
    "        self.camb = CAMBresults(H0, ombh2, omch2, mnu, w0, wa, As, ns, kmax, redshifts)\n",
    "        self.temperature = Temperature(H0, h_z, densityHI)\n",
    "        self.growth_factor = growthFactor(H0, h_z, omega0, gamma)\n",
    "        self.bias = bias\n",
    "        \n",
    "    def matterPowerSpectrum(self, z):\n",
    "        return (self.growth_factor.Growth_Factor(z)**2)*self.camb.PK\n",
    "    \n",
    "    def HIPowerSpectrum(self, z):\n",
    "        return (self.temperature.Temp_obs(z)**2)*(self.bias**2)*(self.matterPowerSpectrum(z)**2)\n",
    "\n",
    "#prueba5"
   ]
  },
  {
   "cell_type": "code",
   "execution_count": null,
   "metadata": {},
   "outputs": [],
   "source": [
    "\"\"\"A partir de aquí empiezo a obtener los valores necesarios para la Matriz de Fisher\"\"\"\n",
    "\n",
    "class sigmaPix:\n",
    "    def __init__(self, Ddish, delta_f, ttotal, omegaTot, Ndishes, Nbeams, Tsys):\n",
    "        #alist = []\n",
    "        self.Ddish = Ddish\n",
    "        self.delta_f = delta_f\n",
    "        self.ttotal = ttotal\n",
    "        self.omegaTot = omegaTot\n",
    "        self.Ndishes = Ndishes\n",
    "        self.Nbeams = Nbeams\n",
    "        self.Tsys = Tsys\n",
    "    \n",
    "    def theta_B(self, z):\n",
    "        return 21*(1 + z)/self.Ddish\n",
    "    \n",
    "    def Omega_Pix(self, z):\n",
    "        return 1.31*(self.theta_B(z))**2\n",
    "        \n",
    "    def sigma_Pix(self, z):\n",
    "        return self.Tsys/np.sqrt(self.delta_f*self.ttotal*(self.Omega_Pix(z)/self.omegaTot)*self.Ndishes*self.Nbeams)\n",
    "\n",
    "prueba6 = sigmaPix(13, 1, 2, 3, 4, 1, 21.1e3)\n",
    "print(\"sigma_Pix:\", prueba6.sigma_Pix(2))"
   ]
  },
  {
   "cell_type": "code",
   "execution_count": null,
   "metadata": {},
   "outputs": [],
   "source": [
    "class ComovingDistance(Hubble):\n",
    "    \"\"\"Comvoing Distance\n",
    "        Parameters:\n",
    "            H0: Hubble constant\"\"\"\n",
    "    def __init__(self, H0, h_z):\n",
    "        super().__init__(H0, h_z)\n",
    "        self.r_z_vec = np.vectorize(self.rcom)\n",
    "\n",
    "    def rcom_prime(self, z): #this is the one used for results\n",
    "        return self.r_z_vec(z)/(constants.c/self.H0)\n",
    "\n",
    "    def drdz(self, z):\n",
    "        return (constants.c/self.H0)/self.E_z(z)\n",
    "\n",
    "    def rcom(self, z):\n",
    "        return integrate.romberg(self.drdz, 0., z)\n",
    "\n",
    "prueba7 = ComovingDistance(0.67, 10)\n",
    "print('Comoving Distance:', prueba7.rcom_prime(4))"
   ]
  },
  {
   "cell_type": "code",
   "execution_count": null,
   "metadata": {},
   "outputs": [],
   "source": [
    "\"\"\"Me estoy guiando en el código de Alkistis para obtener el zmin y zmax.\n",
    "    Es raro porque esos valores de Dzbin, dfpix y midfreq son valores que en ningún otro lado\n",
    "    aparecen más que en el código.\"\"\"\n",
    "\n",
    "\n",
    "class V_pix(ComovingDistance):\n",
    "    def __init__(self, H0, h_z, Ddish, delta_f, ttotal, omegaTot, Ndishes, Nbeams, Tsys, Dzbin, dfpix, midfreq):\n",
    "        super().__init__(H0, h_z)\n",
    "        self._sigmaPix = sigmaPix(Ddish, delta_f, ttotal, omegaTot, Ndishes, Nbeams, Tsys)\n",
    "        self.Dzbin = Dzbin\n",
    "        self.dfpix = dfpix\n",
    "        self.midfreq = midfreq\n",
    "        \n",
    "    def dV_pixdz(self, z):\n",
    "        return constants.c*(self.rcom_prime(z)**2)/(100*self.H0*self.E_z(z))\n",
    "    \n",
    "    def dzpix(self, z): #it is used to obtain the zmin and zmax for integration.\n",
    "        return ((1 + z)**2)*self.dfpix/self.midfreq\n",
    "    \n",
    "    def zmax(self, z):\n",
    "        return z + self.dzpix(z)/2\n",
    "    \n",
    "    def zmin(self, z):\n",
    "        return z - self.dzpix(z)/2\n",
    "    \n",
    "    def Vpix(self, z):\n",
    "        return self._sigmaPix.sigma_Pix(z)*(integrate.romberg(self.dV_pixdz, self.zmin(z), self.zmax(z)))\n",
    "\n",
    "prueba8 = V_pix(0.67, 10, 13, 1, 2, 3, 4, 1, 21.1e3, 0.1, 50e3, 14204e6)\n",
    "print(\"V_pix:\", prueba8.Vpix(2))"
   ]
  },
  {
   "cell_type": "code",
   "execution_count": null,
   "metadata": {},
   "outputs": [],
   "source": [
    "class Wsquared(ComovingDistance, sigmaPix):\n",
    "    def __init__(self, H0, h_z, Ddish, delta_f, ttotal, omegaTot, Ndishes, Nbeams, Tsys):\n",
    "        ComovingDistance.__init__(self, H0, h_z)\n",
    "        sigmaPix.__init__(self, Ddish, delta_f, ttotal, omegaTot, Ndishes, Nbeams, Tsys)\n",
    "    \n",
    "    def Wsq(self, k, z):\n",
    "        return np.exp(-1*(k**2)*self.rcom_prime(z)**2*(self.theta_B(z)/np.sqrt(8*np.log(2))))\n",
    "\n",
    "prueba9 = Wsquared(0.67, 0.1, 13, 0.14, 4000, 3, 4, 1, 21.1e3)\n",
    "print(\"W^2:\", prueba9.Wsq(1.07, 2))"
   ]
  },
  {
   "cell_type": "code",
   "execution_count": null,
   "metadata": {},
   "outputs": [],
   "source": [
    "class PNoise:\n",
    "    def __init__(self, H0, h_z, Ddish, delta_f, ttotal, omegaTot, Ndishes, Nbeams, Tsys, Dzbin, dfpix, midfreq):\n",
    "        self._sigmaPix = sigmaPix(Ddish, delta_f, ttotal, omegaTot, Ndishes, Nbeams, Tsys)\n",
    "        self._V_pix = V_pix(H0, h_z, Ddish, delta_f, ttotal, omegaTot, Ndishes, Nbeams, Tsys, Dzbin, dfpix, midfreq)\n",
    "        self._Wsquared = Wsquared(H0, h_z, Ddish, delta_f, ttotal, omegaTot, Ndishes, Nbeams, Tsys)\n",
    "        \n",
    "    def P_Noise(self, k, z):\n",
    "        return (self._sigmaPix.sigma_Pix(z)**2)*(self._V_pix.Vpix(z))*(self._Wsquared.Wsq(k, z)**-2)\n",
    "\n",
    "prueba10 = PNoise(0.67, 0.1, 13, 0.14, 4000, 3, 4, 1, 21.1e3, 0.1, 50e3, 14204e6)\n",
    "print(\"P_Noise\", prueba10.P_Noise(0.1, 2))"
   ]
  },
  {
   "cell_type": "code",
   "execution_count": null,
   "metadata": {},
   "outputs": [],
   "source": [
    "\"\"\"Aquí estoy poniendo como argumento el sigmaSur que es el sigma del Survey específico,\n",
    "    pero en el código de Alkistis no lo toman en cuenta, me parece.\"\"\"\n",
    "\n",
    "\n",
    "class V_survey(ComovingDistance):\n",
    "    def __init__(self, H0, h_z, sigmaSur, Dzbin):\n",
    "        super().__init__(H0, h_z)\n",
    "        self.sigmaSur = sigmaSur\n",
    "        self.Dzbin = Dzbin\n",
    "        \n",
    "    def dV_surdz(self, z):\n",
    "        return constants.c*(self.rcom_prime(z)**2)/(100*self.H0*self.E_z(z))\n",
    "    \n",
    "    def zmax(self, z):\n",
    "        return z + self.Dzbin/2\n",
    "    \n",
    "    def zmin(self, z):\n",
    "        return z - self.Dzbin/2\n",
    "    \n",
    "    def Vsur(self, z):\n",
    "        return self.sigmaSur*(integrate.romberg(self.dV_surdz, self.zmin(z), self.zmax(z)))\n",
    "\n",
    "prueba8 = V_survey(0.67, 10, 0.53, 0.1)\n",
    "print(\"V_sur:\", prueba8.Vsur(2))"
   ]
  },
  {
   "cell_type": "code",
   "execution_count": null,
   "metadata": {},
   "outputs": [],
   "source": [
    "\"\"\"Esto es para la integral de la matriz de Fisher más adelante.\"\"\"\n",
    "\n",
    "class kminmax(ComovingDistance):\n",
    "    def __init__(self, H0, h_z, omegaTot, ns):\n",
    "        super().__init__(H0, h_z)\n",
    "        self.omegaTot = omegaTot\n",
    "        self.ns = ns\n",
    "    \n",
    "    def kmin(self, z):\n",
    "        return 2*np.pi/np.sqrt((self.rcom_prime(z)**2)*self.omegaTot)\n",
    "    \n",
    "    def kmax(self, z):\n",
    "        return 0.14*pow((1 + z),(2/(2 + self.ns)))\n",
    "        \n",
    "prueba12 = kminmax(0.67, 0.1, 0.53, 1)\n",
    "print(\"k_min:\", prueba12.kmin(2))\n",
    "print(\"k_max:\", prueba12.kmax(2))"
   ]
  },
  {
   "cell_type": "code",
   "execution_count": null,
   "metadata": {},
   "outputs": [],
   "source": []
  }
 ],
 "metadata": {
  "hide_input": false,
  "kernelspec": {
   "display_name": "Python 3",
   "language": "python",
   "name": "python3"
  },
  "language_info": {
   "codemirror_mode": {
    "name": "ipython",
    "version": 3
   },
   "file_extension": ".py",
   "mimetype": "text/x-python",
   "name": "python",
   "nbconvert_exporter": "python",
   "pygments_lexer": "ipython3",
   "version": "3.7.1"
  },
  "toc": {
   "base_numbering": 1,
   "nav_menu": {},
   "number_sections": true,
   "sideBar": true,
   "skip_h1_title": false,
   "title_cell": "Table of Contents",
   "title_sidebar": "Contents",
   "toc_cell": false,
   "toc_position": {},
   "toc_section_display": true,
   "toc_window_display": false
  }
 },
 "nbformat": 4,
 "nbformat_minor": 2
}
