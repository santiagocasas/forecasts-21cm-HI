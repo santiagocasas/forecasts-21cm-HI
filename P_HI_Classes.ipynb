{
 "cells": [
  {
   "cell_type": "code",
   "execution_count": 1,
   "metadata": {},
   "outputs": [
    {
     "name": "stdout",
     "output_type": "stream",
     "text": [
      "Using CAMB 1.0.10 installed at /local/home/scasas/anaconda2/envs/py37/lib/python3.7/site-packages/camb-1.0.10-py3.7.egg/camb\n"
     ]
    }
   ],
   "source": [
    "#Import all necessary packages.\n",
    "%matplotlib inline\n",
    "import sys, platform, os\n",
    "\n",
    "from matplotlib import pyplot as plt\n",
    "import numpy as np\n",
    "\n",
    "import camb\n",
    "from camb import model, initialpower\n",
    "\n",
    "import pylab as pl\n",
    "\n",
    "import scipy\n",
    "from scipy.interpolate import interp1d\n",
    "#from __future__ import division\n",
    "\n",
    "from scipy import integrate\n",
    "from scipy import linalg\n",
    "print('Using CAMB %s installed at %s'%(camb.__version__,os.path.dirname(camb.__file__)))"
   ]
  },
  {
   "cell_type": "code",
   "execution_count": 2,
   "metadata": {},
   "outputs": [],
   "source": [
    "# para obtener ayuda, usar: camb.CAMBparams?"
   ]
  },
  {
   "cell_type": "code",
   "execution_count": 3,
   "metadata": {
    "code_folding": []
   },
   "outputs": [],
   "source": [
    "#Fiducial cosmological parameters\n",
    "c=3e5\n",
    "pi=np.pi\n",
    "## omegac =~ 0.25\n",
    "## omegab =~ 0.05\n",
    "h=0.678\n",
    "omegab=0.05  ## pasar a camb: omegab*h^2\n",
    "omegac=0.24   ## pasar a camb: omegac*h^2\n",
    "omegam=omegac+omegab"
   ]
  },
  {
   "cell_type": "code",
   "execution_count": 4,
   "metadata": {},
   "outputs": [],
   "source": [
    "class CAMBresults:\n",
    "    def __init__(self, redshifts=[0.], **kwargs):\n",
    "        H0 = kwargs['H0']\n",
    "        ombh2 = kwargs['ombh2']\n",
    "        omch2 = kwargs['omch2']\n",
    "        mnu = kwargs['mnu']\n",
    "        w = kwargs['w']\n",
    "        wa = kwargs['wa']\n",
    "        As = kwargs['As']\n",
    "        ns = kwargs['ns']\n",
    "        kmax = kwargs['kmax']\n",
    "        halofit_formula = kwargs.get('halofit_formula', 'takahashi')\n",
    "        nonlinear = kwargs.get('nonlinear', True)\n",
    "        #print(halofit_formula)\n",
    "        self.pars = camb.CAMBparams()\n",
    "        self.kmax = kmax\n",
    "        self.pars.set_cosmology( H0 = H0, ombh2 = ombh2, omch2 = omch2, mnu = mnu)\n",
    "        self.pars.set_dark_energy(w = w, wa = wa)\n",
    "        #print(self.pars)\n",
    "        self.pars.InitPower.set_params(As = As, ns = ns)\n",
    "        self.results = camb.get_results(self.pars)\n",
    "        self.pars.set_matter_power(redshifts = redshifts, kmax = kmax)\n",
    "        if nonlinear==True:\n",
    "            self.pars.NonLinear = model.NonLinear_both\n",
    "            self.pars.NonLinearModel.set_params(halofit_version = halofit_formula)\n",
    "        else:\n",
    "            self.pars.NonLinear = model.NonLinear_none\n",
    "        \n",
    "        self.results.calc_power_spectra(self.pars)        \n",
    "\n",
    "    def interpolate_power_spec(self):\n",
    "        values = self.results.get_matter_power_spectrum(minkh = 1e-4, maxkh = self.kmax, npoints = 500)\n",
    "        self.kh, self.z, self.pk = values\n",
    "        self.PK_of_z = [interp1d(self.kh, pkz) for pkz in self.pk]\n",
    "        print(\"shape of k array: \", self.kh.shape)\n",
    "        print(\"shape of Pk array: \", self.pk.shape)\n",
    "        #self.PK = camb.get_matter_power_interpolator(self.pars, hubble_units = False, k_hunit = True, log_interp = False)\n",
    "        return None\n",
    "    def power_spec(self, z_ind, k):\n",
    "        pkz = self.PK_of_z[z_ind](k)\n",
    "        return pkz"
   ]
  },
  {
   "cell_type": "code",
   "execution_count": 64,
   "metadata": {},
   "outputs": [],
   "source": [
    "eps=0.01"
   ]
  },
  {
   "cell_type": "code",
   "execution_count": 67,
   "metadata": {},
   "outputs": [
    {
     "name": "stdout",
     "output_type": "stream",
     "text": [
      "Note: redshifts have been re-sorted (earliest first)\n"
     ]
    }
   ],
   "source": [
    "cosmologia1 = CAMBresults(redshifts=[0., 1., 2.] , H0=h*(1-eps)*100, \n",
    "                      ombh2=omegab*(h**2), omch2 = omegac*(h**2), \n",
    "                      mnu = 0.0, w =-1, wa =0, As = 2.14e-9, ns = 0.968, kmax=10)"
   ]
  },
  {
   "cell_type": "code",
   "execution_count": 66,
   "metadata": {},
   "outputs": [
    {
     "name": "stdout",
     "output_type": "stream",
     "text": [
      "Note: redshifts have been re-sorted (earliest first)\n"
     ]
    }
   ],
   "source": [
    "cosmologia2 = CAMBresults(redshifts=[0., 1., 2.] , H0=h*(1+eps)*100, \n",
    "                      ombh2=omegab*(h**2), omch2 = omegac*(h**2), \n",
    "                      mnu = 0.0, w =-1, wa =0, As = 2.14e-9, ns = 0.968, kmax=10, nonlinear=False)"
   ]
  },
  {
   "cell_type": "code",
   "execution_count": 43,
   "metadata": {},
   "outputs": [],
   "source": [
    "#cosmologia1.results.get_matter_power_spectrum?"
   ]
  },
  {
   "cell_type": "code",
   "execution_count": 44,
   "metadata": {},
   "outputs": [
    {
     "name": "stdout",
     "output_type": "stream",
     "text": [
      "shape of k array:  (500,)\n",
      "shape of Pk array:  (3, 500)\n"
     ]
    }
   ],
   "source": [
    "cosmologia1.interpolate_power_spec()"
   ]
  },
  {
   "cell_type": "code",
   "execution_count": 45,
   "metadata": {},
   "outputs": [
    {
     "name": "stdout",
     "output_type": "stream",
     "text": [
      "shape of k array:  (500,)\n",
      "shape of Pk array:  (3, 500)\n"
     ]
    }
   ],
   "source": [
    "cosmologia2.interpolate_power_spec()"
   ]
  },
  {
   "cell_type": "code",
   "execution_count": 46,
   "metadata": {},
   "outputs": [
    {
     "name": "stdout",
     "output_type": "stream",
     "text": [
      "704.8356514321188\n",
      "279.68023432996137\n"
     ]
    }
   ],
   "source": [
    "print(cosmologia1.PK_of_z[0](0.5) )  #nonlinear\n",
    "print(cosmologia2.PK_of_z[0](0.5) )   #linear"
   ]
  },
  {
   "cell_type": "code",
   "execution_count": 47,
   "metadata": {},
   "outputs": [
    {
     "name": "stdout",
     "output_type": "stream",
     "text": [
      "z =  0.0\n",
      "z =  1.0\n",
      "z =  2.0\n"
     ]
    },
    {
     "data": {
      "text/plain": [
       "<matplotlib.legend.Legend at 0x7fd65c3f47f0>"
      ]
     },
     "execution_count": 47,
     "metadata": {},
     "output_type": "execute_result"
    },
    {
     "data": {
      "image/png": "[encoded data removed]",
      "text/plain": [
       "<Figure size 432x288 with 1 Axes>"
      ]
     },
     "metadata": {
      "needs_background": "light"
     },
     "output_type": "display_data"
    }
   ],
   "source": [
    "collist = ['r', 'g', 'b']\n",
    "lineslist = []\n",
    "for ii,zz in enumerate(cosmologia1.z):\n",
    "    print(\"z = \", zz)\n",
    "    line1, = plt.loglog(cosmologia1.kh, cosmologia1.PK_of_z[ii](cosmologia1.kh),\n",
    "               '-', color=collist[ii], label='$z=$'+str(zz))\n",
    "    lineslist.append(line1)\n",
    "    \n",
    "    line2,  = plt.loglog(cosmologia2.kh, cosmologia2.PK_of_z[ii](cosmologia2.kh),\n",
    "               ':', color=collist[ii], label='linear')\n",
    "    #plt.legend()\n",
    "first_legend = plt.legend(handles=lineslist, loc='upper right')\n",
    "ax = plt.gca().add_artist(first_legend)\n",
    "plt.legend(handles=[line2], loc='lower left')\n",
    "#plt.loglog(cosmologia1.kh, cosmologia1.PK(0.0, cosmologia1.kh).flatten(), '-.', color='green')  #no funciona\n",
    "\n",
    "#plt.loglog(cosmologia1.kh, cosmologia1.pk[0] , ':', color='blue')  # directamente el kh y Pgrid"
   ]
  },
  {
   "cell_type": "code",
   "execution_count": 48,
   "metadata": {},
   "outputs": [
    {
     "data": {
      "text/plain": [
       "88.11704182525625"
      ]
     },
     "execution_count": 48,
     "metadata": {},
     "output_type": "execute_result"
    }
   ],
   "source": [
    "cosmologia1.results.hubble_parameter(0.5)"
   ]
  },
  {
   "cell_type": "code",
   "execution_count": 57,
   "metadata": {},
   "outputs": [
    {
     "data": {
      "text/plain": [
       "array([], dtype=float64)"
      ]
     },
     "execution_count": 57,
     "metadata": {},
     "output_type": "execute_result"
    }
   ],
   "source": [
    "cosmologia1.pars.z_outputs"
   ]
  },
  {
   "cell_type": "code",
   "execution_count": 50,
   "metadata": {
    "code_folding": []
   },
   "outputs": [],
   "source": [
    "class CosmoFunctions:\n",
    "    \"\"\"Obtain Hubble function\n",
    "        Parameter:\n",
    "            H0: Hubble constant\"\"\"\n",
    "    def __init__(self, CAMBresults, **kwargs):\n",
    "        self.H0 = CAMBresults.pars.H0\n",
    "        self.hubble_parameter = CAMBresults.results.hubble_parameter\n",
    "        self.omegab =  CAMBresults...omegab  #ejemplo\n",
    "        self.gamma = kwargs.get('gamma', 0.55)  #ejemplo\n",
    "\n",
    "    def E_z(self, z):\n",
    "        \"\"\"E(z)\n",
    "            Parameters:\n",
    "                z: Redshift\n",
    "                Notes: H(z) in km/s/Mpc while CAMB's H(z) is in 1/Mpc\"\"\"\n",
    "        resu = self.hubble_parameter(z)/self.H0\n",
    "        return resu"
   ]
  },
  {
   "cell_type": "code",
   "execution_count": 51,
   "metadata": {
    "code_folding": []
   },
   "outputs": [
    {
     "name": "stdout",
     "output_type": "stream",
     "text": [
      "H0: 67.80000000000001\n"
     ]
    }
   ],
   "source": [
    "hubble1 = Hubble(cosmologia1)\n",
    "print('H0:', hubble1.H0)"
   ]
  },
  {
   "cell_type": "code",
   "execution_count": 53,
   "metadata": {},
   "outputs": [
    {
     "name": "stdout",
     "output_type": "stream",
     "text": [
      "H0: 72.0\n"
     ]
    }
   ],
   "source": [
    "print('H0:', Hubble(cosmologia2).H0)"
   ]
  },
  {
   "cell_type": "code",
   "execution_count": 55,
   "metadata": {},
   "outputs": [
    {
     "data": {
      "text/plain": [
       "array([3.16127512, 4.76218162])"
      ]
     },
     "execution_count": 55,
     "metadata": {},
     "output_type": "execute_result"
    }
   ],
   "source": [
    "Hubble(cosmologia2).E_z([2.3,3.4])"
   ]
  },
  {
   "cell_type": "code",
   "execution_count": 56,
   "metadata": {},
   "outputs": [
    {
     "data": {
      "text/plain": [
       "[<matplotlib.lines.Line2D at 0x7fd65c2e1860>]"
      ]
     },
     "execution_count": 56,
     "metadata": {},
     "output_type": "execute_result"
    },
    {
     "data": {
      "image/png": "[encoded data removed]",
      "text/plain": [
       "<Figure size 432x288 with 1 Axes>"
      ]
     },
     "metadata": {
      "needs_background": "light"
     },
     "output_type": "display_data"
    }
   ],
   "source": [
    "zz = np.linspace(0.,7., 5)\n",
    "plt.plot(zz, Hubble(cosmologia2).E_z(zz), ':', color='red')\n",
    "plt.plot(zz, Hubble(cosmologia1).E_z(zz), ':', color='b')"
   ]
  },
  {
   "cell_type": "code",
   "execution_count": null,
   "metadata": {},
   "outputs": [],
   "source": [
    "class ComovingDistance(Hubble):\n",
    "    \"\"\"Comvoing Distance\n",
    "        Parameters:\n",
    "            H0: Hubble constant\"\"\"\n",
    "    def __init__(self, H0, h_z):\n",
    "        super().__init__(H0, h_z)\n",
    "        self.r_z_vec = np.vectorize(self.rcom)\n",
    "\n",
    "    def rcom_prime(self, z): #this is the one used for results\n",
    "        return self.r_z_vec(z)/(constants.c/self.H0)\n",
    "       self.drdz = (constants.c/self.H0)/self.E_z(z)  #define atributo que solo va a usar aqui en esta clase\n",
    "\n",
    "    def rcom(self, z):\n",
    "        return integrate.romberg(self.drdz, 0., z)\n",
    "\n",
    "prueba7 = ComovingDistance(0.67, 10)\n",
    "print('Comoving Distance:', prueba7.rcom_prime(4))"
   ]
  },
  {
   "cell_type": "code",
   "execution_count": 58,
   "metadata": {},
   "outputs": [
    {
     "ename": "SyntaxError",
     "evalue": "invalid syntax (<ipython-input-58-330174f47782>, line 9)",
     "output_type": "error",
     "traceback": [
      "\u001b[0;36m  File \u001b[0;32m\"<ipython-input-58-330174f47782>\"\u001b[0;36m, line \u001b[0;32m9\u001b[0m\n\u001b[0;31m    def __init__(self,  CAMBresults  \"\"\"\" seguir aqui \"\"\"\"):\u001b[0m\n\u001b[0m                                                        ^\u001b[0m\n\u001b[0;31mSyntaxError\u001b[0m\u001b[0;31m:\u001b[0m invalid syntax\n"
     ]
    }
   ],
   "source": [
    "\"\"\"Defino el factor de crecimiento\"\"\"\n",
    "\n",
    "class growthFactor(Hubble):\n",
    "    \"\"\"Growth Factor\n",
    "        Parameters:\n",
    "            Omega_0:  \n",
    "            z: redshift\n",
    "            Gamma: \"\"\"\n",
    "    def __init__(self,  CAMBresults  \"\"\"\" seguir aqui \"\"\"\"):\n",
    "        super().__init__(H0, h_z)\n",
    "        self.omega0 = omega0\n",
    "        self.gamma = gamma\n",
    "\n",
    "    def growthFunction(self, z):\n",
    "        value1 = self.E_z(z)\n",
    "        value2 = self.omega0*pow((1 + z), 3)\n",
    "        value3 = pow(value2/value1, self.gamma)\n",
    "        return value3\n",
    "\n",
    "    def dgF_dz(self, z):\n",
    "        return (self.growthFunction(z))/(1 + z)\n",
    "\n",
    "    def Growth_Factor(self, z):\n",
    "        return np.exp(integrate.romberg(self.dgF_dz, 0., z))\n",
    "\n",
    "prueba3 = growthFactor(0.67, 10, 10, 2)\n",
    "print(\"Growth Factor:\", prueba3.Growth_Factor(4))"
   ]
  },
  {
   "cell_type": "code",
   "execution_count": null,
   "metadata": {},
   "outputs": [],
   "source": [
    "\"\"\"Obtengo la temperatura que se utiliza en la ecuación del PHI\"\"\"\n",
    "\n",
    "class Temperature(Hubble): #obtaining the temperature (T^2(z)) for the Power Spectrum (PHI(z))\n",
    "    def __init__(self, H0, h_z, densityHI):\n",
    "        super().__init__(H0, h_z)\n",
    "        self.densityHI = densityHI\n",
    "    \n",
    "    def omega_HI(self, z):\n",
    "        return (8*np.pi*constants.G*self.densityHI)/(3*(self.H0**2))\n",
    "    \n",
    "    def Temp_obs(self, z):\n",
    "        return 44e-6*(self.omega_HI(z)*((self.H0/100)/2.45e-4)*((1 + z)**2))/self.E_z(z)\n",
    "\n",
    "prueba4 = Temperature(0.67, 10, 0.5)\n",
    "print('Temperature:', prueba4.Temp_obs(2))"
   ]
  },
  {
   "cell_type": "code",
   "execution_count": null,
   "metadata": {},
   "outputs": [],
   "source": [
    "\"\"\"Con las clases anteriores, ya se puede obtener el Power Spectrum\n",
    "    No lo inicialicé por el problema que está dando en la clase de CAMB\n",
    "    Fíjese en la definición de matterPowerSpectrum como estoy llamando el PK de camb\n",
    "    No estoy seguro de que sea la forma correcta. Tal vez me pueda aclarar eso un poco.\n",
    "    Estoy viendo cómo utilizar una lista de datos como argumento en las definiciones,\n",
    "    para no tener que poner tantos argumentos.\"\"\"\n",
    "\n",
    "class HIPowerSpectrum:\n",
    "    def __init__(self, H0, ombh2, omch2, mnu, w0, wa, As, ns, kmax, redshifts, h_z, densityHI, omega0, gamma, bias):\n",
    "        self.camb = CAMBresults(H0, ombh2, omch2, mnu, w0, wa, As, ns, kmax, redshifts)\n",
    "        self.temperature = Temperature(H0, h_z, densityHI)\n",
    "        self.growth_factor = growthFactor(H0, h_z, omega0, gamma)\n",
    "        self.bias = bias\n",
    "        \n",
    "    def matterPowerSpectrum(self, z):\n",
    "        return (self.growth_factor.Growth_Factor(z)**2)*self.camb.PK\n",
    "    \n",
    "    def HIPowerSpectrum(self, z):\n",
    "        return (self.temperature.Temp_obs(z)**2)*(self.bias**2)*(self.matterPowerSpectrum(z)**2)\n",
    "\n",
    "#prueba5\n",
    "\n",
    "PHI = b^2 * P\n"
   ]
  },
  {
   "cell_type": "code",
   "execution_count": null,
   "metadata": {},
   "outputs": [],
   "source": [
    "\"\"\"A partir de aquí empiezo a obtener los valores necesarios para la Matriz de Fisher\"\"\"\n",
    "\n",
    "class sigmaPix:\n",
    "    def __init__(self, Ddish, delta_f, ttotal, omegaTot, Ndishes, Nbeams, Tsys):\n",
    "        #alist = []\n",
    "        self.Ddish = Ddish\n",
    "        self.delta_f = delta_f\n",
    "        self.ttotal = ttotal\n",
    "        self.omegaTot = omegaTot\n",
    "        self.Ndishes = Ndishes\n",
    "        self.Nbeams = Nbeams\n",
    "        self.Tsys = Tsys\n",
    "    \n",
    "    def theta_B(self, z):\n",
    "        return 21*(1 + z)/self.Ddish\n",
    "    \n",
    "    def Omega_Pix(self, z):\n",
    "        return 1.31*(self.theta_B(z))**2\n",
    "        \n",
    "    def sigma_Pix(self, z):\n",
    "        return self.Tsys/np.sqrt(self.delta_f*self.ttotal*(self.Omega_Pix(z)/self.omegaTot)*self.Ndishes*self.Nbeams)\n",
    "\n",
    "prueba6 = sigmaPix(13, 1, 2, 3, 4, 1, 21.1e3)\n",
    "print(\"sigma_Pix:\", prueba6.sigma_Pix(2))"
   ]
  },
  {
   "cell_type": "code",
   "execution_count": null,
   "metadata": {},
   "outputs": [],
   "source": [
    "\"\"\"Me estoy guiando en el código de Alkistis para obtener el zmin y zmax.\n",
    "    Es raro porque esos valores de Dzbin, dfpix y midfreq son valores que en ningún otro lado\n",
    "    aparecen más que en el código.\"\"\"\n",
    "\n",
    "\n",
    "class V_pix(CosmoFunctions):\n",
    "    def __init__(self, H0, h_z, Ddish, delta_f, ttotal, omegaTot, Ndishes, Nbeams, Tsys, Dzbin, dfpix, midfreq):\n",
    "        super().__init__(H0, h_z)\n",
    "        self._sigmaPix = sigmaPix(Ddish, delta_f, ttotal, omegaTot, Ndishes, Nbeams, Tsys)\n",
    "        self.Dzbin = Dzbin\n",
    "        self.dfpix = dfpix\n",
    "        self.midfreq = midfreq\n",
    "        \n",
    "    def dV_pixdz(self, z):\n",
    "        return constants.c*(self.rcom_prime(z)**2)/(100*self.H0*self.E_z(z))\n",
    "    \n",
    "    def dzpix(self, z): #it is used to obtain the zmin and zmax for integration.\n",
    "        return ((1 + z)**2)*self.dfpix/self.midfreq\n",
    "    \n",
    "    def zmax(self, z):\n",
    "        return z + self.dzpix(z)/2\n",
    "    \n",
    "    def zmin(self, z):\n",
    "        return z - self.dzpix(z)/2\n",
    "    \n",
    "    def Vpix(self, z):\n",
    "        return self._sigmaPix.sigma_Pix(z)*(integrate.romberg(self.dV_pixdz, self.zmin(z), self.zmax(z)))\n",
    "\n",
    "prueba8 = V_pix(0.67, 10, 13, 1, 2, 3, 4, 1, 21.1e3, 0.1, 50e3, 14204e6)\n",
    "print(\"V_pix:\", prueba8.Vpix(2))"
   ]
  },
  {
   "cell_type": "code",
   "execution_count": null,
   "metadata": {},
   "outputs": [],
   "source": [
    "class Wsquared(ComovingDistance, sigmaPix):\n",
    "    def __init__(self, H0, h_z, Ddish, delta_f, ttotal, omegaTot, Ndishes, Nbeams, Tsys):\n",
    "        ComovingDistance.__init__(self, H0, h_z)\n",
    "        sigmaPix.__init__(self, Ddish, delta_f, ttotal, omegaTot, Ndishes, Nbeams, Tsys)\n",
    "    \n",
    "    def Wsq(self, k, z):\n",
    "        return np.exp(-1*(k**2)*self.rcom_prime(z)**2*(self.theta_B(z)/np.sqrt(8*np.log(2))))\n",
    "\n",
    "prueba9 = Wsquared(0.67, 0.1, 13, 0.14, 4000, 3, 4, 1, 21.1e3)\n",
    "print(\"W^2:\", prueba9.Wsq(1.07, 2))"
   ]
  },
  {
   "cell_type": "code",
   "execution_count": null,
   "metadata": {},
   "outputs": [],
   "source": [
    "class PNoise:\n",
    "    def __init__(self, H0, h_z, Ddish, delta_f, ttotal, omegaTot, Ndishes, Nbeams, Tsys, Dzbin, dfpix, midfreq):\n",
    "        self._sigmaPix = sigmaPix(Ddish, delta_f, ttotal, omegaTot, Ndishes, Nbeams, Tsys)\n",
    "        self._V_pix = V_pix(H0, h_z, Ddish, delta_f, ttotal, omegaTot, Ndishes, Nbeams, Tsys, Dzbin, dfpix, midfreq)\n",
    "        self._Wsquared = Wsquared(H0, h_z, Ddish, delta_f, ttotal, omegaTot, Ndishes, Nbeams, Tsys)\n",
    "        \n",
    "    def P_Noise(self, k, z):\n",
    "        return (self._sigmaPix.sigma_Pix(z)**2)*(self._V_pix.Vpix(z))*(self._Wsquared.Wsq(k, z)**-2)\n",
    "\n",
    "prueba10 = PNoise(0.67, 0.1, 13, 0.14, 4000, 3, 4, 1, 21.1e3, 0.1, 50e3, 14204e6)\n",
    "print(\"P_Noise\", prueba10.P_Noise(0.1, 2))"
   ]
  },
  {
   "cell_type": "code",
   "execution_count": null,
   "metadata": {},
   "outputs": [],
   "source": [
    "\"\"\"Aquí estoy poniendo como argumento el sigmaSur que es el sigma del Survey específico,\n",
    "    pero en el código de Alkistis no lo toman en cuenta, me parece.\"\"\"\n",
    "\n",
    "\n",
    "class V_survey(ComovingDistance):\n",
    "    def __init__(self, H0, h_z, sigmaSur, Dzbin):\n",
    "        super().__init__(H0, h_z)\n",
    "        self.sigmaSur = sigmaSur\n",
    "        self.Dzbin = Dzbin\n",
    "        \n",
    "    def dV_surdz(self, z):\n",
    "        return constants.c*(self.rcom_prime(z)**2)/(100*self.H0*self.E_z(z))\n",
    "    \n",
    "    def zmax(self, z):\n",
    "        return z + self.Dzbin/2\n",
    "    \n",
    "    def zmin(self, z):\n",
    "        return z - self.Dzbin/2\n",
    "    \n",
    "    def Vsur(self, z):\n",
    "        return self.sigmaSur*(integrate.romberg(self.dV_surdz, self.zmin(z), self.zmax(z)))\n",
    "\n",
    "prueba8 = V_survey(0.67, 10, 0.53, 0.1)\n",
    "print(\"V_sur:\", prueba8.Vsur(2))"
   ]
  },
  {
   "cell_type": "code",
   "execution_count": null,
   "metadata": {},
   "outputs": [],
   "source": [
    "\"\"\"Esto es para la integral de la matriz de Fisher más adelante.\"\"\"\n",
    "\n",
    "\"\"\" No es necesario hacer clase de esto!!!                     \"\"\"\n",
    "\n",
    "class kminmax(ComovingDistance):\n",
    "    def __init__(self, H0, h_z, omegaTot, ns):\n",
    "        super().__init__(H0, h_z)\n",
    "        self.omegaTot = omegaTot\n",
    "        self.ns = ns\n",
    "    \n",
    "    def kmin(self, z):\n",
    "        return 2*np.pi/np.sqrt((self.rcom_prime(z)**2)*self.omegaTot)\n",
    "    \n",
    "    def kmax(self, z):\n",
    "        return 0.14*pow((1 + z),(2/(2 + self.ns)))\n",
    "        \n",
    "prueba12 = kminmax(0.67, 0.1, 0.53, 1)\n",
    "print(\"k_min:\", prueba12.kmin(2))\n",
    "print(\"k_max:\", prueba12.kmax(2))"
   ]
  },
  {
   "cell_type": "code",
   "execution_count": 61,
   "metadata": {},
   "outputs": [],
   "source": [
    "class Star:\n",
    "    \n",
    "    def __init__(self, mag):\n",
    "        self.mag = mag\n",
    "        \n",
    "class Galaxy:\n",
    "    \n",
    "    def __init__(self, mass):\n",
    "        self.mass = mass\n",
    "    \n",
    "class Cluster:\n",
    "    \n",
    "    def __init__(self, star, galaxy):\n",
    "        self.star = star\n",
    "        self.galaxy = galaxy\n",
    "        self.mag = star.mag\n",
    "        self.mass = galaxy.mass\n",
    "        self.luminosity = self.mag*self.mass"
   ]
  },
  {
   "cell_type": "code",
   "execution_count": 63,
   "metadata": {},
   "outputs": [
    {
     "name": "stdout",
     "output_type": "stream",
     "text": [
      "mag = 11.0\n",
      "mass = 10.0\n",
      "lum = 110.0\n",
      "mag = 5.0\n",
      "mass = 20.0\n",
      "lum = 100.0\n"
     ]
    }
   ],
   "source": [
    "star = Star(11.)\n",
    "galaxy = Galaxy(10.)\n",
    "inst = Cluster(star, galaxy)\n",
    "print(\"mag =\", inst.mag)\n",
    "print(\"mass =\", inst.mass)\n",
    "print(\"lum =\", inst.luminosity)\n",
    "inst2 = Cluster(Star(5.), Galaxy(20.))\n",
    "print(\"mag =\", inst2.mag)\n",
    "print(\"mass =\", inst2.mass)\n",
    "print(\"lum =\", inst2.luminosity)"
   ]
  },
  {
   "cell_type": "code",
   "execution_count": null,
   "metadata": {},
   "outputs": [],
   "source": []
  }
 ],
 "metadata": {
  "hide_input": false,
  "kernelspec": {
   "display_name": "Python 3",
   "language": "python",
   "name": "python3"
  },
  "language_info": {
   "codemirror_mode": {
    "name": "ipython",
    "version": 3
   },
   "file_extension": ".py",
   "mimetype": "text/x-python",
   "name": "python",
   "nbconvert_exporter": "python",
   "pygments_lexer": "ipython3",
   "version": "3.7.1"
  },
  "toc": {
   "base_numbering": 1,
   "nav_menu": {},
   "number_sections": true,
   "sideBar": true,
   "skip_h1_title": false,
   "title_cell": "Table of Contents",
   "title_sidebar": "Contents",
   "toc_cell": false,
   "toc_position": {},
   "toc_section_display": true,
   "toc_window_display": false
  }
 },
 "nbformat": 4,
 "nbformat_minor": 2
}
