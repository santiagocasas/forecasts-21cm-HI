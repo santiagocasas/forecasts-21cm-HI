{
 "cells": [
  {
   "cell_type": "code",
   "execution_count": 1,
   "metadata": {},
   "outputs": [],
   "source": [
    "\n",
    "#First, we set the CAMB parameters and results\n",
    "import camb\n",
    "from scipy import constants\n",
    "from scipy import integrate\n",
    "import numpy as np\n",
    "\n",
    "class CAMBresults:\n",
    "\n",
    "    def __init__(self, H0, ombh2, omch2, mnu, w0, wa, As, ns, kmax, redshifts):\n",
    "        self.pars = camb.CAMBparams()\n",
    "        self.kmax = kmax\n",
    "        self.pars.set_cosmology(H0 = H0, ombh2 = ombh2, omch2 = omch2, mnu = mnu)\n",
    "        self.pars.set_dark_energy(w = w0, wa = wa)\n",
    "        self.pars.InitPower.set_params(As = As, ns = ns)\n",
    "        self.pars.set_matter_power(redshifts = redshifts, kmax = kmax)\n",
    "        self.results = camb.get_results(self.pars)\n",
    "\n",
    "    def nonlinear_power(self, halofit_formula = 'takahashi'):\n",
    "        self.pars.NonLinear = camb.model.NonLinear_both\n",
    "        self.pars.NonLinearModel.set_params(halofit_version=halofit_formula)\n",
    "\n",
    "    def power_spec_z0(self):\n",
    "        self.results.calc_power_spectra(self.pars)\n",
    "        values = self.results.get_matter_power_spectrum(minkh = 1e-4, maxkh = self.kmax, npoints = 500)\n",
    "        self.kh, self.z, self.pk = values\n",
    "        self.PK = camb.get_matter_power_interpolator(self.pars, hubble_units = True, k_hunit = True, log_interp = False)\n"
   ]
  },
  {
   "cell_type": "code",
   "execution_count": 5,
   "metadata": {},
   "outputs": [
    {
     "name": "stdout",
     "output_type": "stream",
     "text": [
      "prueba: 4474514298.5074625\n"
     ]
    }
   ],
   "source": [
    "class Hubble:\n",
    "    \"\"\"Obtain Hubble function\n",
    "        Parameters:\n",
    "        H0: Hubble constant\n",
    "    \"\"\"\n",
    "    def __init__(self, H0, h_z):\n",
    "        self.H0 = H0\n",
    "        self._h_z = h_z\n",
    "\n",
    "    def E_z(self, z):\n",
    "        \"\"\"E(z)\n",
    "        Parameters:\n",
    "        z: Redshift\n",
    "        Notes: H(z) in km/s/Mpc while CAMB's H(z) is in 1/Mpc\n",
    "        \"\"\"\n",
    "        h_z_phys = self._h_z*constants.c\n",
    "        return h_z_phys / self.H0\n",
    "\n",
    "prueba = Hubble(0.67, 10)\n",
    "print('prueba:', prueba.E_z(2.0))"
   ]
  },
  {
   "cell_type": "code",
   "execution_count": 6,
   "metadata": {},
   "outputs": [
    {
     "name": "stdout",
     "output_type": "stream",
     "text": [
      "prueba1: 8.939517751310475e-10\n"
     ]
    }
   ],
   "source": [
    "class ComovingDistance(Hubble):\n",
    "    \"\"\"Comvoing Distance\n",
    "    Parameters:\n",
    "    H0: Hubble constant\"\"\"\n",
    "    \n",
    "    def __init__(self, H0, h_z):\n",
    "        super(ComovingDistance, self).__init__(H0, h_z)\n",
    "        self.r_z_vec = np.vectorize(self.rcom)\n",
    "\n",
    "    def rcom_prime(self, z):\n",
    "        return self.r_z_vec(z)/(constants.c/self.H0)\n",
    "\n",
    "    def drdz(self, z):\n",
    "        return (constants.c/self.H0)/self.E_z(z)\n",
    "\n",
    "    def rcom(self, z):\n",
    "        return integrate.romberg(self.drdz, 0., z)\n",
    "\n",
    "prueba1 = ComovingDistance(0.67, 10)\n",
    "print('prueba1:', prueba1.rcom_prime(4))"
   ]
  },
  {
   "cell_type": "code",
   "execution_count": null,
   "metadata": {},
   "outputs": [],
   "source": [
    "class growthFactor(Hubble):\n",
    "    \"\"\"Growth Factor\n",
    "        Parameters:\n",
    "            Omega_0:  \n",
    "            z: redshift\n",
    "            Gamma: \n",
    "    \"\"\"\n",
    "    def __init__(self, omega0, z, gamma, H0, h_z):\n",
    "        super(growthFactor, self).__init__(H0, h_z)\n",
    "        self.growthFunction = ((omega0*((1 + z)**3))/self.E_z(z))**gamma\n",
    "        \n",
    "        \"\"\"\n",
    "        self.omega0 = _omega0\n",
    "        self.z = _z\n",
    "        self.gamma = _gamma\n",
    "        \n",
    "    def growthFunction(self, omega0, z, gamma):\n",
    "        return ((omega0*((1 + z)**3))/self.E_z(z))**gamma\n",
    "    \"\"\"\n",
    "    \n",
    "    def dgf_dz(self, z):\n",
    "        return self.growthFunction/(1 + z)\n",
    "    \n",
    "    def Growth_Factor(self, z):\n",
    "        return np.exp(integrate.romberg(self.dgf_dz(z), 0., z))\n",
    "\n",
    "prueba2 = growthFactor(0.8, 2, 0.3, 0.67, 10)\n",
    "print(prueba2.Growth_Factor(2))"
   ]
  },
  {
   "cell_type": "code",
   "execution_count": null,
   "metadata": {},
   "outputs": [],
   "source": [
    "class Temperature(Hubble): #obtaining the temperature (T^2(z) for the Power Spectrum (PHI(z))\n",
    "    def omega_HI(self, densityHI, z):\n",
    "        return (8*np.pi*sp.G*densityHI)/(3*(Hubble.H0**2))\n",
    "    \n",
    "    def Temp_obs(self, z):\n",
    "        return 44e-6*(Temperature.omega_HI*(Hubble.H0/100)/2.45e-4)*((1 + z)**2)/Hubble.E_z"
   ]
  },
  {
   "cell_type": "code",
   "execution_count": null,
   "metadata": {},
   "outputs": [],
   "source": [
    "class PowerSpectrum(): #Obtain the Power Spectrum (PHI(z))\n",
    "    def bias(self, z):\n",
    "        return\n",
    "\n",
    "    def Power_Spectrum(self, k, z):\n",
    "        return Temperature.Temp_obs\n"
   ]
  }
 ],
 "metadata": {
  "kernelspec": {
   "display_name": "Python 3",
   "language": "python",
   "name": "python3"
  },
  "language_info": {
   "codemirror_mode": {
    "name": "ipython",
    "version": 3
   },
   "file_extension": ".py",
   "mimetype": "text/x-python",
   "name": "python",
   "nbconvert_exporter": "python",
   "pygments_lexer": "ipython3",
   "version": "3.6.5"
  }
 },
 "nbformat": 4,
 "nbformat_minor": 2
}
